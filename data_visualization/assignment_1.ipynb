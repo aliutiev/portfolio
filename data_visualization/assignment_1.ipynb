{
 "cells": [
  {
   "cell_type": "markdown",
   "metadata": {},
   "source": [
    "# Final Project\n",
    "\n",
    "\n"
   ]
  },
  {
   "cell_type": "code",
   "execution_count": 1,
   "metadata": {},
   "outputs": [],
   "source": [
    "import pandas as pd\n",
    "df = pd.read_csv('data/fueltypesall.csv')\n",
    "\n",
    "# python -m notebook"
   ]
  }
 ],
 "metadata": {
  "kernelspec": {
   "name": "python381jvsc74a57bd00f65c23eede5476679184682c503c84731cf692a5e00e0b01124a2cec60a7327",
   "display_name": "Python 3.8.1 32-bit"
  },
  "language_info": {
   "codemirror_mode": {
    "name": "ipython",
    "version": 3
   },
   "file_extension": ".py",
   "mimetype": "text/x-python",
   "name": "python",
   "nbconvert_exporter": "python",
   "pygments_lexer": "ipython3",
   "version": "3.8.1-final"
  },
  "metadata": {
   "interpreter": {
    "hash": "0f65c23eede5476679184682c503c84731cf692a5e00e0b01124a2cec60a7327"
   }
  }
 },
 "nbformat": 4,
 "nbformat_minor": 2
}